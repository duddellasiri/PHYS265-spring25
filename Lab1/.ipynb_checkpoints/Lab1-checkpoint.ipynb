{
 "cells": [
  {
   "cell_type": "markdown",
   "id": "1921b3c2-ac87-4a85-afcf-471acfdb873f",
   "metadata": {},
   "source": [
    "# Lab 1: The Apollo Missions"
   ]
  },
  {
   "cell_type": "markdown",
   "id": "eaf2382e-c282-4f3a-8b87-d6ea747fb2bb",
   "metadata": {},
   "source": [
    "## Constants"
   ]
  },
  {
   "cell_type": "code",
   "execution_count": null,
   "id": "2b2f1efc-d927-4c69-b748-b56fd4ea7af0",
   "metadata": {
    "tags": []
   },
   "outputs": [],
   "source": [
    "import numpy as np\n",
    "import matplotlib.pyplot as plt\n",
    "G = 6.67e-11 #m^3/kg/s^2\n",
    "g = 9.81 #m/s^2\n",
    "Me = 5.9e24 #kg\n",
    "Mm = 7.3e22 #kg\n",
    "Macm = 5500 #kg\n",
    "re = 6378 #km\n",
    "rm = 1737 #km\n",
    "dem = 3.8e8 #m\n",
    "ve = 2.4e3 #m/s\n",
    "m = 1.3e4 #kg/s\n",
    "m0 = 2.4e3 #m/s\n",
    "mf = 7.5e5 #kg"
   ]
  },
  {
   "cell_type": "markdown",
   "id": "c9407975-17cd-41e3-94bd-eaf2d6d58f88",
   "metadata": {
    "tags": []
   },
   "source": [
    "## Part 1: The Gravitational Potential of the Earth"
   ]
  },
  {
   "cell_type": "code",
   "execution_count": null,
   "id": "7e911ad5-6368-4d3c-b6a8-185f5366a5e6",
   "metadata": {
    "tags": []
   },
   "outputs": [],
   "source": [
    "# Question 1\n",
    "def potential(xm, ym, m, x=0, y=0):\n",
    "    dist = np.sqrt((x-xm)**2 + (y-ym)**2)\n",
    "    dist[np.isclose(dist, 0, atol = 0.1)] = np.nan\n",
    "    return -G * m/dist\n",
    "\n",
    "#Question 2\n",
    "x = np.linspace(re, dem * 1.5, 1000)\n",
    "y = potential(x,re, Me)\n",
    "fig, ax = plt.subplots()\n",
    "ax.plot(x, np.log(np.abs(y)))\n",
    "\n",
    "ax.set_title(r\"Absolute Value of the Gravitational Potential $|\\Phi|$ vs Distance from Earth\")\n",
    "ax.set_xlabel(\"Distance from the Earth (km)\")\n",
    "ax.set_ylabel(r\"Absolute Value of $|\\Phi|$\");"
   ]
  },
  {
   "cell_type": "code",
   "execution_count": null,
   "id": "2723a0dc-b319-42f3-8322-419b70dbae0f",
   "metadata": {
    "tags": []
   },
   "outputs": [],
   "source": [
    "#Question 3\n",
    "import matplotlib.cm as cm\n",
    "x = np.linspace(-1.5 * dem, 1.5*dem, 1000)\n",
    "y = np.linspace(-1.5 * dem, 1.5*dem, 1000)\n",
    "X,Y = np.meshgrid(x,y)\n",
    "phi = potential(X,Y,m)\n",
    "\n",
    "fig, ax = plt.subplots()\n",
    "contour = ax.contourf(X,Y,np.log(np.abs(phi)))\n",
    "fig.colorbar(contour)\n",
    "ax.set_aspect(\"equal\")\n",
    "ax.set_title(r\"Potential $|\\Phi|$ around the Earth\")\n",
    "ax.set_xlabel(\"Horizontal Distance from Earth (km)\")\n",
    "ax.set_ylabel(\"Vertical Distance from Earth (km)\");"
   ]
  },
  {
   "cell_type": "markdown",
   "id": "762dd3c1-bb32-42f9-a0b8-45788d28d517",
   "metadata": {
    "tags": []
   },
   "source": [
    "## Part 2: The Gravitational Potential of the Earth Moon System"
   ]
  },
  {
   "cell_type": "code",
   "execution_count": null,
   "id": "21e1b903-df86-49e0-ab2f-70480b23d3a4",
   "metadata": {},
   "outputs": [],
   "source": []
  }
 ],
 "metadata": {
  "kernelspec": {
   "display_name": "Python 3 (ipykernel)",
   "language": "python",
   "name": "python3"
  },
  "language_info": {
   "codemirror_mode": {
    "name": "ipython",
    "version": 3
   },
   "file_extension": ".py",
   "mimetype": "text/x-python",
   "name": "python",
   "nbconvert_exporter": "python",
   "pygments_lexer": "ipython3",
   "version": "3.11.5"
  }
 },
 "nbformat": 4,
 "nbformat_minor": 5
}
